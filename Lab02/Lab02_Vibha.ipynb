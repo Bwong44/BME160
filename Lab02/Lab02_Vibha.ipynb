{
 "cells": [
  {
   "cell_type": "markdown",
   "metadata": {},
   "source": [
    "Deliverables:  40 total points\n",
    "\n",
    " - this notebook with inspection intro and results filled out for CoordinateMathSoln  4 points\n",
    " - seqCleaner  9 points\n",
    " - fastqParse  9 points\n",
    " - coordinateMathSoln 9 points\n",
    " - converter 9 points\n",
    " - Optional: Triad class rewrite (5 points extra credit)\n",
    " \n",
    " These must be submitted as the notebook with 4(or 5) completed cells, \n",
    "     \n",
    " Due: Monday January 22, 2024 11:55pm\n",
    "\n",
    "# Lab 2 – Manipulating Data Types (40 points)\n",
    "## Overview\n",
    "Last week we introduced the Python function input(), which is used to take in string data. This week we will use input() to take in string and numeric (float and integer) data. \n",
    "\n",
    "Remember that all data returned from input() is a string object, so this will mean that you need to convert any numeric data to their respective numeric objects. The exercises in this lab will give you practice manipulating various types of data that commonly arise in computational biology problems.\n",
    "\n",
    "We are again using jupyter for this assignment. Please save this notebook into your LAB02 folder. \n"
   ]
  },
  {
   "cell_type": "markdown",
   "metadata": {},
   "source": [
    "## Sequence cleanup\n",
    "In this exercise, you will create a program to “clean up” a sequence of DNA by removing ambiguous bases (denoted by “N”) output from a sequencer. Your task is to create a Python program called seqCleaner that\n",
    " - asks for and collects a sequence of DNA using input()\n",
    " - removes the ambiguous parts of the sequence, outputs the “cleaned” sequence, replacing the ambiguous parts with a count in {}’s.\n",
    "For example, if I enter the sequence of DNA “AaNNNNNNGTC” (without quotes), the program will output:<br>\n",
    "AA{6}GTC"
   ]
  },
  {
   "cell_type": "markdown",
   "metadata": {},
   "source": [
    "### Hints: \n",
    " - The input sequence is not guaranteed to be uppercase, but should be interpreted as though it is all uppercase.\n",
    " - Only the letters (A,C,G,T,N) will be included in the input.\n",
    " - Only the DNA characters (A,C,G,T) should remain after the cleanup. \n",
    " - The input may include, at most, one block of 'N' characters. \n",
    "\n",
    "To get full credit on this assignment, your code needs to:\n",
    " - Run properly (execute and produce the correct output)\n",
    " - Contain docstrings and specific line or block comments that explain the semantics of your implementation.\n",
    " - Include any assumptions or design decisions you made in writing your code\n",
    " - Include an overview describing what your program does with expected inputs and outputs. This should be in the form of a  program level dosctring."
   ]
  },
  {
   "cell_type": "markdown",
   "metadata": {},
   "source": [
    "### seqCleaner"
   ]
  },
  {
   "cell_type": "code",
   "execution_count": null,
   "metadata": {},
   "outputs": [],
   "source": [
    "#!/usr/bin/env python3 \n",
    "# Name: Vibha Rao\n",
    "# Group Members: Penetha Jayakumar, Brandon Wong\n",
    "\"\"\"\n",
    "Takes a DNA sequence as input and cleans it by removing ambiguous bases (\"N\") and replacing them with their count in curly braces.\n",
    "\n",
    "Input: A sequence of DNA characters (A, C, G, T, N)\n",
    "Output: The cleaned DNA sequence with any ambiguous bases replaced by their count in curly braces.\n",
    "\"\"\"\n",
    "\n",
    "class DNAstring (str):\n",
    "    def purify(self):\n",
    "        ''' Return an upcased version of the string, collapsing a single run of Ns.'''\n",
    "        upperDNA = self.upper() #convert the sequence to uppercase.\n",
    "        #Initialize a count for consecutive 'N' bases and an empty string for purified DNA\n",
    "        count = 0\n",
    "        pureDNA = \"\"\n",
    "        for base in upperDNA: #Iterate through each base in the uppercased DNA string\n",
    "            if base == 'N': #If the base is 'N', increment the count\n",
    "                count += 1\n",
    "            else:\n",
    "                if count > 0: # If the base is not 'N' and there was a run of 'N's, append the count in curly braces\n",
    "                    pureDNA += '{' + str(count) + '}'\n",
    "                    count = 0\n",
    "                pureDNA += base #Append the current base to the purified DNA string\n",
    "        # If there were consecutive 'N's at the end, append the count in curly braces\n",
    "        if count > 0:\n",
    "            pureDNA += '{' + str(count) + '}'\n",
    "        return pureDNA\n",
    "\n",
    "def main():\n",
    "    ''' Get user DNA data and clean it up.'''\n",
    "    data = input('DNA data? ')\n",
    "    while data:\n",
    "        thisDNA = DNAstring(data) # Create a DNAstring object using the entered data\n",
    "        pureData = thisDNA.purify() # Call the purify method to clean up the DNA string\n",
    "        print(pureData) # Print the purified DNA string\n",
    "        data = input('DNA data? ')\n",
    "\n",
    "if __name__ == \"__main__\":\n",
    "    main()\n"
   ]
  },
  {
   "cell_type": "markdown",
   "metadata": {},
   "source": [
    "## Sequence information parsing\n",
    "In this exercise, you will create a program to “parse” sequence name information from a single line of a FASTQ formatted file. Your task is to create a Python script called fastqParse that:\n",
    " - asks for and collects the seqname line of a FASTQ file using input()\n",
    " - parses out each field of the run information from the string and displays each of them on a new line\n",
    "For example, if I enter the FASTQ seqname line:<br> \n",
    "__*@EAS139:136:FC706VJ:2:2104:15343:197393*__\n",
    "then the program will output:<br>\n",
    "Instrument = EAS139<br>\n",
    "Run ID = 136<br>\n",
    "Flow Cell ID = FC706VJ<br>\n",
    "Flow Cell Lane = 2<br>\n",
    "Tile Number = 2104<br>\n",
    "X-coord = 15343<br>\n",
    "Y-coord = 197393\n",
    "### Hints: \n",
    " - The input string is guaranteed to have 7 fields. \n",
    " - The first character of the FASTQ seqname line is “@” and each field of the run information is separated by a colon“:”.  \n",
    " - A reasonable solution would be around 16 lines of code excluding comments.\n",
    "\n",
    "To get full credit on this assignment, your code needs to:\n",
    " - Run properly (execute and produce the correct output)\n",
    " - Contain documentation/comments\n",
    " - Include any assumptions or design decisions you made in writing your code\n",
    " - Include an overview describing what your program does with expected inputs and outputs"
   ]
  },
  {
   "cell_type": "markdown",
   "metadata": {},
   "source": [
    "### fastqParse"
   ]
  },
  {
   "cell_type": "code",
   "execution_count": null,
   "metadata": {},
   "outputs": [],
   "source": [
    "\n",
    "#!/usr/bin/env python3 \n",
    "# Name: Vibha Rao\n",
    "# Group Members: Penetha Jayakumar, Brandon Wong\n",
    "\n",
    "'''\n",
    "Defines a FastqString class to parse information from a FASTQ file format. \n",
    "It prompts the user to enter a FASTQ file, parses the data, and prints the extracted information.\n",
    "'''\n",
    "\n",
    "class FastqString (str):\n",
    "    '''  Parses the FASTQ string and extracts information.'''\n",
    "    def parse(self):\n",
    "        ''' Parses the FASTQ header string and prints information about different sections.'''\n",
    "       \n",
    "        if self.startswith('@', 0, 1): # Check if the FASTQ string starts with '@' (a typical FASTQ entry)\n",
    "            fastqSplit = self.split(\":\")  # Split the FASTQ string into a list using \":\" as the delimiter\n",
    "            # Create a dictionary mapping each part of the split string to its corresponding information\n",
    "            fastqParse = {\n",
    "                fastqSplit[0]: \"Instrument\",\n",
    "                fastqSplit[1]: \"Run ID\",\n",
    "                fastqSplit[2]: \"Flow Cell ID\",\n",
    "                fastqSplit[3]: \"Flow Cell Lane\",\n",
    "                fastqSplit[4]: \"Tile Number\",\n",
    "                fastqSplit[5]: \"X-coord\",\n",
    "                fastqSplit[6]: \"Y-coord\"\n",
    "            }\n",
    "            # Print the parsed information in a readable format\n",
    "            for k, v in fastqParse.items():\n",
    "                print(v,\"=\", k)\n",
    "\n",
    "def main():\n",
    "    fastqInput = input(\"Enter the FASTQfile: \") # Prompt the user to enter a FASTQ file\n",
    "    while(fastqInput):\n",
    "        fastqData = FastqString(fastqInput) # Create a FastqString object using the entered data\n",
    "        output = fastqData.parse() # Call the parse method to extract and print information from the FASTQ string\n",
    "        fastqInput = input(\"Enter the FASTQ file: \")\n",
    "\n",
    "if __name__ == \"__main__\":\n",
    "    main()\n"
   ]
  },
  {
   "cell_type": "markdown",
   "metadata": {},
   "source": [
    "## Protein coordinates\n",
    "In this exercise, you will create a program that takes three sets of atomic coordinates, all provided on a **single line**. The program then calculates the bond lengths and angles. For this program, you can start with the Triad class (provided). Your task is to create a Python program called coordinateMathSoln that:\n",
    " - asks for and collects three sets of coordinates using input(), only use 1 line for this data !!\n",
    " - outputs the N-C and N-Ca bond lengths and the C-N-Ca bond angle with correct number of significant digits (see below)\n",
    " \n",
    "For example, if I enter the following coordinates (notice.. they are all on one line !!!) :<br>\n",
    "\n",
    "C = (39.447, 94.657, 11.824) N = (39.292, 95.716, 11.027) Ca = (39.462, 97.101, 11.465) <br>\n",
    "\n",
    "then the program will output the following three lines:<br>\n",
    "N-C bond length = 1.33<br>\n",
    "N-Ca bond length = 1.46<br>\n",
    "C-N-Ca bond angle = 124.0<br> \n",
    "\n",
    "(Note: make sure that the angle returned is in **degrees** !!)\n",
    "### Hints: \n",
    " - Each coordinate will contain only 3 numeric values. \n",
    " - Bond lengths are the distance between two points, which for points P and Q in 3-space,\n",
    "$(P_x , P_y , P_z )$ and $(Q_x , Q_y , Q_z )$ respectively, the distance between them is:\n",
    "\n",
    "\n",
    "$$\n",
    "\\begin {eqnarray}\n",
    "     \\|PQ\\| &=&\\sqrt{(P_x-Q_x)^2 + (P_y-Q_y)^2 + (P_z-Q_z)^2)} \\\\\n",
    "            &=&\\sqrt{\\sum^{i \\in x,y,z}{(P_i-Q_i)^2}} \\\\\n",
    "\\end{eqnarray}\n",
    "$$\n",
    "\n",
    " - Bond angles can be calculated from the dot product.\n",
    " \n",
    "Let’s say that we have three points in space labeled P, Q and R. We are interested in the angle at point Q that is made from line segments QP and QR.\n",
    "The dot product tells us (for standard vectors P and R) that:\n",
    "$$P \\cdot R=\\|P\\| \\|R\\| \\cos{\\theta}$$\n",
    "in this notation,$\\|P\\|$ refers to the length of vector P as a standard vector (assumed to begin at the origin (0,0,0) ).\n",
    "We can then see that the angle between vectors P and R can be found by:\n",
    "$$\\cos{\\theta}=\\frac{P \\cdot R} {\\|P\\| \\|R\\|}$$\n",
    "\n",
    "We can calculate the dot product using the sum of products of the vector components:\n",
    "$$P \\cdot R = \\sum^{i \\in x,y,z}{P_i R_i} $$\n",
    "\n",
    "Now, to find vector P in standard form, we need to remember that QP starts at Q, so we need to place the origin at Q and find out where P is in that new space. We do that by subtracting the components of Q from P.\n",
    "Putting all of this together, we get:\n",
    "$$\\theta=\\cos^{-1}{\\frac{\\sum^{i \\in x,y,z}{(P_i - Q_i) (R_i - Q_i) }} {\\|QP\\| \\|QR\\|}}$$\n",
    "Remember, $\\theta$ is in radians.\n",
    "\n",
    "Below I have given you a class (Triad) with methods to calculate dot products (dot), dot products of translated vectors (ndot), distances (dPQ, dPR, dPR) and angles in radians (angleP, angleQ and angleR) for each of the three points in a Triad object.\n",
    "A reasonable solution for this exercise involves around 12 lines of additional code excluding comments.\n",
    "\n",
    "To get full credit on this assignment, your code needs to:\n",
    " - Run properly (execute and produce the correct output)\n",
    " - Contain docstrings and line comments (using #)\n",
    " - Include any assumptions or design decisions you made in writing your code\n",
    " - Include an overview describing what your program does with expected inputs and outputs as a program level docstring\n",
    " "
   ]
  },
  {
   "cell_type": "markdown",
   "metadata": {
    "nteract": {
     "transient": {
      "deleting": false
     }
    }
   },
   "source": [
    "## Inspection Introduction\n",
    "\n",
    "For this weeks inspection please focus on coordinateMathSoln. Consider the design choices that you made, how you are dealing with the single line of input data, how you are doing the data conversions, and how you convert to degrees.\n",
    "\n",
    "The script uses the input function to prompt the user to enter three sets of coordinates. The user is expected to enter the coordinates in the format (x1, y1, z1) (x2, y2, z2) (x3, y3, z3), where each set of coordinates is enclosed in parentheses and separated by spaces. Once the user enters the coordinates, the script processes the input to prepare it for further parsing. The replace method is used to replace parentheses and spaces, and then split(\",\") is applied to create a list of strings, where each element corresponds to a numeric value.\n",
    "After processing the input, the script extracts the numeric values from the list and converts them to floating-point numbers using float(). The resulting values are then used to create tuples tupleP, tupleQ, and tupleR, representing the coordinates of points p, q, and r respectively.\n",
    "The angles are converted to degrees using math.degrees().\n"
   ]
  },
  {
   "cell_type": "markdown",
   "metadata": {},
   "source": [
    "### coordinateMathSoln"
   ]
  },
  {
   "cell_type": "code",
   "execution_count": null,
   "metadata": {},
   "outputs": [],
   "source": [
    "#!/usr/bin/env python3 \n",
    "# Name: Vibha Rao\n",
    "# Group Members: Penetha Jayakumar, Brandon Wong\n",
    "\n",
    "'''\n",
    "Defines a Triad class to calculate angles and distances among a triad of points.\n",
    "Prompts the user to enter three sets of coordinates, creates a Triad object, and prints the calculated lengths and angles.\n",
    "\n",
    "Example Input:\n",
    "C = (39.447, 94.657, 11.824) N = (39.292, 95.716, 11.027) Ca = (39.462, 97.101, 11.465)\n",
    "\n",
    "Example Output:\n",
    "N-C bond length = 1.33\n",
    "N-Ca bond length = 1.46\n",
    "C-N-Ca bond angle = 124.0\n",
    "'''\n",
    "\n",
    "import math\n",
    "class Triad :\n",
    "    \"\"\"\n",
    "    Calculate angles and distances among a triad of points.\n",
    " \n",
    "    Author: David Bernick\n",
    "    Date: March 21, 2013\n",
    "    Points can be supplied in any dimensional space as long as they are consistent.\n",
    "    Points are supplied as tupels in n-dimensions, and there should be three\n",
    "    of those to make the triad. Each point is positionally named as p,q,r\n",
    "    and the corresponding angles are then angleP, angleQ and angleR.\n",
    "    Distances are given by dPQ(), dPR() and dQR()\n",
    " \n",
    "    Required Modules: math\n",
    "    initialized: 3 positional tuples representing Points in n-space\n",
    "             p1 = Triad( p=(1,0,0), q=(0,0,0), r=(0,1,0) )\n",
    "    attributes: p,q,r the 3 tuples representing points in N-space\n",
    "    methods:  angleP(), angleR(), angleQ() angles measured in radians\n",
    "          dPQ(), dPR(), dQR() distances in the same units of p,q,r\n",
    " \n",
    "    \"\"\"\n",
    " \n",
    "    def __init__(self,p,q,r) :\n",
    "        \"\"\" Construct a Triad. \n",
    "        \n",
    "        Example construction:\n",
    "            p1 = Triad( p=(1.,0.,0.), q=(0.,0.,0.), r=(0.,0.,0.) ). \n",
    "        \"\"\"\n",
    "        self.p = p\n",
    "        self.q = q\n",
    "        self.r = r\n",
    "        \n",
    "# private helper methods\n",
    "    def d2 (self,a,b) : # calculate squared distance of point a to b\n",
    "        return float(sum((ia-ib)*(ia-ib)  for  ia,ib in zip (a,b)))\n",
    "    \n",
    "    def dot (self,a,b) : # dotProd of standard vectors a,b\n",
    "        return float(sum(ia*ib for ia,ib in zip(a,b)))\n",
    "    \n",
    "    def ndot (self,a,b,c) : # dotProd of vec. a,c standardized to b\n",
    "        return float(sum((ia-ib)*(ic-ib) for ia,ib,ic in zip (a,b,c)))\n",
    "    \n",
    "# calculate lengths(distances) of segments PQ, PR and QR\n",
    "    def dPQ (self):\n",
    "        \"\"\" Provides the distance between point p and point q \"\"\"\n",
    "        return math.sqrt(self.d2(self.p,self.q))\n",
    "    \n",
    "    def dPR (self):\n",
    "        \"\"\" Provides the distance between point p and point r \"\"\"\n",
    "        return math.sqrt(self.d2(self.p,self.r))\n",
    "    \n",
    "    def dQR (self):\n",
    "        \"\"\" Provides the distance between point q and point r \"\"\"\n",
    "        return math.sqrt(self.d2(self.q,self.r))\n",
    "    \n",
    "    def angleP (self) :\n",
    "        \"\"\" Provides the angle made at point p by segments pq and pr (radians). \"\"\"\n",
    "        return math.acos(self.ndot(self.q,self.p,self.r) / \n",
    "                         math.sqrt(self.d2(self.q,self.p) * self.d2(self.r,self.p)))\n",
    "    \n",
    "    def angleQ (self) :\n",
    "        \"\"\" Provides the angle made at point q by segments qp and qr (radians). \"\"\"\n",
    "        return math.acos(self.ndot(self.p,self.q,self.r) /\n",
    "                         math.sqrt(self.d2(self.p,self.q) * self.d2(self.r,self.q)))\n",
    " \n",
    "    def angleR (self) :\n",
    "        \"\"\" Provides the angle made at point r by segments rp and rq (radians). \"\"\"\n",
    "        return math.acos(self.ndot(self.p,self.r,self.q) /\n",
    "                         math.sqrt(self.d2(self.p,self.r) * self.d2(self.q,self.r)))\n",
    "\n",
    "def main():\n",
    "    ''' Prompts the user to enter three sets of coordinates, calculates lengths and angles using the Triad class, and prints the results.'''\n",
    "    \n",
    "    coordInput = input(\"Enter three sets of coordinates\")\n",
    "    \n",
    "    # Parse coordinates into tuples, handling parentheses and spaces\n",
    "    coordSplit= coordInput.replace('(', \",\").replace(')', \",\").replace(' ', '').split(\",\")\n",
    "    tupleP = (float(coordSplit[1]), float(coordSplit[2]), float(coordSplit[3]))\n",
    "    tupleQ = (float(coordSplit[5]), float(coordSplit[6]), float(coordSplit[7]))\n",
    "    tupleR = (float(coordSplit[9]), float(coordSplit[10]), float(coordSplit[11]))\n",
    "    \n",
    "    triadInput = Triad(tupleP,tupleQ, tupleR) #Create a Triad object with the provided coordinates\n",
    "    \n",
    "    #Calculate distances and angles\n",
    "    NCBondLength =  triadInput.dPQ()\n",
    "    NCaBondLength = triadInput.dQR()\n",
    "    CNCaBondAngle = math.degrees(triadInput.angleQ())\n",
    "    \n",
    "    # Print the calculated results with sig figs\n",
    "    print(\"N-C bond length = {0:0.2f}\".format(NCBondLength))\n",
    "    print(\"N-Ca bond length = {0:0.2f}\".format(NCaBondLength))\n",
    "    print(\"C-N-Ca bond angle = {0:0.1f}\".format(CNCaBondAngle))\n",
    "        \n",
    "if __name__ == \"__main__\":\n",
    "    main()\n",
    "\n"
   ]
  },
  {
   "cell_type": "markdown",
   "metadata": {
    "nteract": {
     "transient": {
      "deleting": false
     }
    }
   },
   "source": [
    "## Inspection Results \n",
    "(Group, Findings and your Responses to those findings)"
   ]
  },
  {
   "cell_type": "markdown",
   "metadata": {},
   "source": [
    "## Extra credit (5 points): Rewrite the Triad class.  \n",
    "For extra-credit, provide a direct replacement for the Triad class. The external methods that calculate angles, distances, and points (tuples) p,q and r must be maintained such that either version of the Triad class can be used.\n",
    "\n",
    "You could use the cosine law to calculate angles instead of the dot product.  You might make use of the numpy module. You might recode each of the methods to avoid using zip. You might consider using list iterations.\n",
    "Your Triad replacement must reimplement all of Triad public function, without using zip and without being a trivial rewrite. Your implementation need not be as compact as the current implementation, and it needs to be correct and fully documented to receive full credit. "
   ]
  },
  {
   "cell_type": "markdown",
   "metadata": {},
   "source": [
    "### Triad rewrite"
   ]
  },
  {
   "cell_type": "code",
   "execution_count": null,
   "metadata": {},
   "outputs": [],
   "source": [
    "class Triad:\n",
    "    def __init__(self,p,q,r) :\n",
    "        \"\"\" Construct a Triad.  \n",
    "        \n",
    "        Example object construction:\n",
    "            p1 = Triad( p=(1.,0.,0.), q=(0.,0.,0.), r=(0.,0.,0.) ).\n",
    "        \"\"\"\n",
    "        self.p = p\n",
    "        self.q = q\n",
    "        self.r = r\n",
    "    def dPQ (self):\n",
    "        \"\"\" Return the distance between point p and point q \"\"\"\n",
    "        pass\n",
    "    \n",
    "    def dPR (self):\n",
    "        \"\"\" Return the distance between point p and point r \"\"\"\n",
    "        pass\n",
    "    \n",
    "    def dQR (self):\n",
    "        \"\"\" Return the distance between point q and point r \"\"\"\n",
    "        pass\n",
    "    \n",
    "    def angleP (self) :\n",
    "        \"\"\" Return the angle made at point p by segments pq and pr (radians). \"\"\"\n",
    "        pass\n",
    "    \n",
    "    def angleQ (self) :\n",
    "        \"\"\" Return the angle made at point q by segments qp and qr (radians). \"\"\"\n",
    "        pass\n",
    "        \n",
    "    def angleR (self) :\n",
    "        \"\"\" Return the angle made at point r by segments rp and rq (radians). \"\"\"\n",
    "        pass\n",
    "        "
   ]
  },
  {
   "cell_type": "markdown",
   "metadata": {},
   "source": [
    "## Codon tables and amino acid letter converters\n",
    "In this exercise, you will create a Python solution that uses mappings to convert sequence information between different amino acid representations.  This includes the 3-letter codon code (RNA and DNA), the one letter amino acid code and the 3-letter amino acid code.\n",
    "The program will use different dictionaries that represent :\n",
    "codon tables – one for DNA and the other for RNA, and\n",
    "amino acid letter representation converters. \n",
    "\n",
    "Your task is to create a solution that\n",
    "asks for and collects a single input string using input()\n",
    "parses the string, looks up the information in the appropriate dictionary, and outputs the correct conversion\n",
    "For example:<br>\n",
    "\n",
    "if I enter “ATG” (without quotes), then the program will output:<br>\n",
    "ATG = MET<br>\n",
    " \n",
    "if I enter “UAG” (without quotes), then the program will output:<br>\n",
    "UAG = ---<br>\n",
    "if I enter “E” (without quotes), then the program will output:<br>\n",
    "E = GLU<br>\n",
    "if I enter “Asp” (without quotes), then the program will output:<br>\n",
    "ASP = D<br>\n",
    "### Hints: \n",
    " - The program might not get a valid codon.  In that case, it should output 'unknown'.  You can use the dictionary method 'get' and include a default_value to handle the 'unknown' case. Remeeber our discussion of how  the _or_ function is a short-circuit operator.\n",
    " \n",
    "To get full credit on this assignment, your program needs to:\n",
    " - Run properly (execute and produce the correct output)\n",
    " - Contain docstrings and line comments (using #)\n",
    " - Include any assumptions or design decisions you made in writing your code\n",
    " - Include an overview describing what your program does with expected inputs and outputs as a program level docstring\n",
    " "
   ]
  },
  {
   "cell_type": "markdown",
   "metadata": {},
   "source": [
    "### converter"
   ]
  },
  {
   "cell_type": "code",
   "execution_count": null,
   "metadata": {},
   "outputs": [
    {
     "name": "stdin",
     "output_type": "stream",
     "text": [
      "Enter codon or amino acid guu\n"
     ]
    },
    {
     "name": "stdout",
     "output_type": "stream",
     "text": [
      "GUU = VAL\n"
     ]
    },
    {
     "name": "stdin",
     "output_type": "stream",
     "text": [
      "Enter codon or amino acid atg\n"
     ]
    },
    {
     "name": "stdout",
     "output_type": "stream",
     "text": [
      "ATG = MET\n"
     ]
    },
    {
     "name": "stdin",
     "output_type": "stream",
     "text": [
      "Enter codon or amino acid uaa\n"
     ]
    },
    {
     "name": "stdout",
     "output_type": "stream",
     "text": [
      "UAA = ---\n"
     ]
    },
    {
     "name": "stdin",
     "output_type": "stream",
     "text": [
      "Enter codon or amino acid t\n"
     ]
    },
    {
     "name": "stdout",
     "output_type": "stream",
     "text": [
      "T = THR\n"
     ]
    },
    {
     "name": "stdin",
     "output_type": "stream",
     "text": [
      "Enter codon or amino acid ser\n"
     ]
    },
    {
     "name": "stdout",
     "output_type": "stream",
     "text": [
      "SER = S\n"
     ]
    },
    {
     "name": "stdin",
     "output_type": "stream",
     "text": [
      "Enter codon or amino acid asu\n"
     ]
    },
    {
     "name": "stdout",
     "output_type": "stream",
     "text": [
      "ASU = UNKNOWN\n"
     ]
    }
   ],
   "source": [
    "#!/usr/bin/env python3 \n",
    "# Name: Vibha Rao\n",
    "# Group Members: Penetha Jayakumar, Brandon Wong\n",
    "\n",
    "'''\n",
    "Translates between codons and amino acids, and between short and long amino acid codes.\n",
    "Prompts the user to enter a codon or an amino acid (in either short\n",
    "or long code). It then translates the input into the corresponding codon or amino acid,\n",
    "using appropriate translation tables.\n",
    "'''\n",
    "# Dictionary for short amino acid codes\n",
    "short_AA = {\n",
    "            'CYS': 'C', 'ASP': 'D', 'SER': 'S', 'GLN': 'Q', 'LYS': 'K',\n",
    "            'ILE': 'I', 'PRO': 'P', 'THR': 'T', 'PHE': 'F', 'ASN': 'N', \n",
    "            'GLY': 'G', 'HIS': 'H', 'LEU': 'L', 'ARG': 'R', 'TRP': 'W', \n",
    "            'ALA': 'A', 'VAL': 'V', 'GLU': 'E', 'TYR': 'Y', 'MET': 'M'\n",
    "            }\n",
    "# Dictionary for long amino acid codes \n",
    "long_AA = {value:key for key,value in short_AA.items()}\n",
    "\n",
    "# RNA codon table dictionary\n",
    "rnaCodonTable = {\n",
    "# Second Base\n",
    "# U             C             A             G\n",
    "#U\n",
    "'UUU': 'Phe', 'UCU': 'Ser', 'UAU': 'Tyr', 'UGU': 'Cys',\n",
    "'UUC': 'Phe', 'UCC': 'Ser', 'UAC': 'Tyr', 'UGC': 'Cys',\n",
    "'UUA': 'Leu', 'UCA': 'Ser', 'UAA': '---', 'UGA': '---',\n",
    "'UUG': 'Leu', 'UCG': 'Ser', 'UAG': '---', 'UGG': 'Trp',\n",
    "#C \n",
    "'CUU': 'Leu', 'CCU': 'Pro', 'CAU': 'His', 'CGU': 'Arg',\n",
    "'CUC': 'Leu', 'CCC': 'Pro', 'CAC': 'His', 'CGC': 'Arg',\n",
    "'CUA': 'Leu', 'CCA': 'Pro', 'CAA': 'Gln', 'CGA': 'Arg',\n",
    "'CUG': 'Leu', 'CCG': 'Pro', 'CAG': 'Gln', 'CGG': 'Arg',\n",
    "#A\n",
    "'AUU': 'Ile', 'ACU': 'Thr', 'AAU': 'Asn', 'AGU': 'Ser',\n",
    "'AUC': 'Ile', 'ACC': 'Thr', 'AAC': 'Asn', 'AGC': 'Ser',\n",
    "'AUA': 'Ile', 'ACA': 'Thr', 'AAA': 'Lys', 'AGA': 'Arg',\n",
    "'AUG': 'Met', 'ACG': 'Thr', 'AAG': 'Lys', 'AGG': 'Arg',\n",
    "#G\n",
    "'GUU': 'Val', 'GCU': 'Ala', 'GAU': 'Asp', 'GGU': 'Gly',\n",
    "'GUC': 'Val', 'GCC': 'Ala', 'GAC': 'Asp', 'GGC': 'Gly',\n",
    "'GUA': 'Val', 'GCA': 'Ala', 'GAA': 'Glu', 'GGA': 'Gly',\n",
    "'GUG': 'Val', 'GCG': 'Ala', 'GAG': 'Glu', 'GGG': 'Gly'\n",
    "}\n",
    "# DNA codon table dictionary\n",
    "dnaCodonTable = {key.replace('U','T'):value for key, value in rnaCodonTable.items()}\n",
    "\n",
    "def main():\n",
    "    ''' Prompts the user to enter either a codon or an amino acid, prints the corresponding information from the dictionaries.'''\n",
    "    \n",
    "    userInput = input(\"Enter codon or amino acid\").upper()\n",
    "    while(userInput):\n",
    "        if userInput in short_AA: # Check if the input is a short amino acid code\n",
    "            result = short_AA.get(userInput, 'unknown').upper()\n",
    "        elif userInput in long_AA: # Check if the input is a long amino acid code\n",
    "            result = long_AA.get(userInput, 'unknown').upper()\n",
    "        elif userInput in rnaCodonTable: # Check if the input is an RNA codon\n",
    "            result = rnaCodonTable.get(userInput, 'unknown').upper()\n",
    "        else:\n",
    "            result = dnaCodonTable.get(userInput, 'unknown').upper() # Check if the input is a DNA codon\n",
    "        print(\"{} = {}\".format(userInput, result)) # Print the result\n",
    "        userInput = input(\"Enter codon or amino acid\").upper()\n",
    "\n",
    "if __name__ == \"__main__\":\n",
    "    main()\n"
   ]
  },
  {
   "cell_type": "markdown",
   "metadata": {},
   "source": [
    "## Submit your code and answers\n",
    " \n",
    "Important: please save your work before logging out of the computer. This will ensure that you have a copy of your work and you will avoid having to redo everything in the  event that something happens with the lab computers. The three recommended solutions (pick one) at this point are to:\n",
    " - Email your code file to yourself\n",
    " - Copy your code file to a pen drive\n",
    " - Save your work on your own computer if you are using Anaconda ( or equiv)\n",
    "\n",
    "Submit the notebook created as part of this lab assignment, with cells completed:\n",
    " \n",
    " - this notebook file, complete with inspection introduction and inspection for coordMathSoln (4 points)\n",
    " - seqCleaner 9 points\n",
    " - fastqParse 9 points\n",
    " - coordinateMathSoln 9 points\n",
    " - converter 9 points\n",
    " - triad Triad rewrite (optional) 5 points\n",
    " \n",
    "Important: to get full credit on this lab assignment, each of the code cells you submit needs to:\n",
    " - Run properly (execute and produce the correct output)\n",
    " - Contain proper docstrings and appropriate line style comments (#)\n",
    " \n",
    "Congratulations, you finished your second lab assignment!"
   ]
  }
 ],
 "metadata": {
  "kernelspec": {
   "display_name": "Python 3 (ipykernel)",
   "language": "python",
   "name": "python3"
  },
  "language_info": {
   "codemirror_mode": {
    "name": "ipython",
    "version": 3
   },
   "file_extension": ".py",
   "mimetype": "text/x-python",
   "name": "python",
   "nbconvert_exporter": "python",
   "pygments_lexer": "ipython3",
   "version": "3.11.5"
  },
  "nteract": {
   "version": "0.28.0"
  }
 },
 "nbformat": 4,
 "nbformat_minor": 4
}
